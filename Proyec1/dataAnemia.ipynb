{
 "cells": [
  {
   "cell_type": "code",
   "execution_count": 90,
   "metadata": {},
   "outputs": [],
   "source": [
    "import datetime # Tipo de dato para fechas y horas\n",
    "import pandas as pd # Manejo de datos tabulados\n",
    "import numpy as np # Algebra Lineal y operaciones matematicas\n",
    "import matplotlib.pyplot as plt # Graficos de datos\n",
    "import seaborn as sns # Graficos estadisticos\n",
    "import pandas_profiling as ppr # ?????????\n",
    "import geopandas as gpd # Pandas para datos geograficos (Mapas!!)\n",
    "from fitter import Fitter # Ajuste de distribuciones de probs\n",
    "from pandas_profiling import ProfileReport\n",
    "import plotly as pl\n",
    "import cufflinks as cf "
   ]
  },
  {
   "cell_type": "code",
   "execution_count": 91,
   "metadata": {},
   "outputs": [],
   "source": [
    "%matplotlib inline"
   ]
  },
  {
   "cell_type": "markdown",
   "metadata": {},
   "source": [
    "## 1. Cargando los Datos de los Niños del Centro de Salud\n",
    "Estos datos no estan procesados aun."
   ]
  },
  {
   "cell_type": "code",
   "execution_count": 92,
   "metadata": {},
   "outputs": [],
   "source": [
    "dfn1 = pd.read_csv('../data/Niños LIMA DIRIS CENTRO.csv')\n",
    "dfn2 = pd.read_csv('../data/Niños LIMA DIRIS ESTE.csv')\n",
    "dfn3 = pd.read_csv('../data/Niños LIMA DIRIS NORTE.csv')\n",
    "dfn4 = pd.read_csv('../data/Niños LIMA DIRIS SUR.csv')\n",
    "dfn5 = pd.read_csv('../data/Niños LIMA.csv')"
   ]
  },
  {
   "cell_type": "code",
   "execution_count": 93,
   "metadata": {},
   "outputs": [
    {
     "data": {
      "text/plain": [
       "Index(['Diresa', 'Red', 'Microred', 'EESS', 'Dpto_EESS', 'Prov_EESS',\n",
       "       'Dist_EESS', 'Renipress', 'FechaAtencion', 'Sexo', 'FechaNacimiento',\n",
       "       'EdadMeses', 'UbigeoPN', 'DepartamentoPN', 'ProvinciaPN', 'DistritoPN',\n",
       "       'CentroPobladoPN', 'Juntos', 'SIS', 'Pin', 'Qaliwarma', 'Peso', 'Talla',\n",
       "       'Hemoglobina', 'FechaHemoglobina', 'Cred', 'Suplementacion',\n",
       "       'Consejeria', 'Sesion', 'UbigeoREN', 'DepartamentoREN', 'ProvinciaREN',\n",
       "       'DistritoREN', 'AlturaREN', 'HBC', 'Dx_Anemia'],\n",
       "      dtype='object')"
      ]
     },
     "execution_count": 93,
     "metadata": {},
     "output_type": "execute_result"
    }
   ],
   "source": [
    "dfn_todos = pd.concat([dfn1, dfn2,dfn3,dfn4, dfn5])\n",
    "dfn_todos.columns"
   ]
  },
  {
   "cell_type": "code",
   "execution_count": 319,
   "metadata": {},
   "outputs": [],
   "source": [
    "dfnt= dfn_todos.assign(Cantidad_Niños=1)\n",
    "dfnt= dfnt[['Diresa','UbigeoPN','Prov_EESS','Dist_EESS', 'EdadMeses','Sexo','Peso', 'Talla','Hemoglobina','Dx_Anemia','Cantidad_Niños']]\n"
   ]
  },
  {
   "cell_type": "code",
   "execution_count": 320,
   "metadata": {},
   "outputs": [
    {
     "name": "stdout",
     "output_type": "stream",
     "text": [
      "<class 'pandas.core.frame.DataFrame'>\n",
      "Int64Index: 138369 entries, 0 to 21169\n",
      "Data columns (total 11 columns):\n",
      " #   Column          Non-Null Count   Dtype  \n",
      "---  ------          --------------   -----  \n",
      " 0   Diresa          138369 non-null  object \n",
      " 1   UbigeoPN        138369 non-null  object \n",
      " 2   Prov_EESS       138369 non-null  object \n",
      " 3   Dist_EESS       138369 non-null  object \n",
      " 4   EdadMeses       138369 non-null  int64  \n",
      " 5   Sexo            138369 non-null  object \n",
      " 6   Peso            138369 non-null  object \n",
      " 7   Talla           138369 non-null  object \n",
      " 8   Hemoglobina     138369 non-null  float64\n",
      " 9   Dx_Anemia       138369 non-null  object \n",
      " 10  Cantidad_Niños  138369 non-null  int64  \n",
      "dtypes: float64(1), int64(2), object(8)\n",
      "memory usage: 12.7+ MB\n"
     ]
    }
   ],
   "source": [
    "dfnt= dfnt.dropna()\n",
    "dfnt.info()"
   ]
  },
  {
   "cell_type": "markdown",
   "metadata": {},
   "source": [
    "## DATAFRAME DE NIÑOS CON/SIN ANEMIA"
   ]
  },
  {
   "cell_type": "code",
   "execution_count": 314,
   "metadata": {},
   "outputs": [
    {
     "data": {
      "text/plain": [
       "array(['Normal', 'Anemia Leve', 'Anemia Moderada', 'Anemia Severa'],\n",
       "      dtype=object)"
      ]
     },
     "execution_count": 314,
     "metadata": {},
     "output_type": "execute_result"
    }
   ],
   "source": [
    "dfnt.Dx_Anemia.unique()"
   ]
  },
  {
   "cell_type": "code",
   "execution_count": 170,
   "metadata": {},
   "outputs": [],
   "source": [
    "dfntn = dfnt[dfnt['Dx_Anemia']== 'Normal']               # El dataframe de ninos sanos\n",
    "dfntn1 = dfnt[dfnt['Dx_Anemia']== 'Anemia Leve']         # El Dataframe con anemia leve\n",
    "dfntn2 = dfnt[dfnt['Dx_Anemia']== 'Anemia Moderada']     # El Dataframe con anemia Moderada\n",
    "dfntn3 = dfnt[dfnt['Dx_Anemia']== 'Anemia Severa']       # El Dataframe con anemia severa\n",
    "\n",
    "ninos_con_Anemia = pd.concat([dfntn1,dfntn2,dfntn3])\n",
    "ninos_sin_Anemia = dfntn.copy()\n"
   ]
  },
  {
   "cell_type": "code",
   "execution_count": 181,
   "metadata": {},
   "outputs": [
    {
     "data": {
      "text/plain": [
       "Sexo\n",
       "F    15935\n",
       "M    18649\n",
       "Name: Cantidad_Niños, dtype: int64"
      ]
     },
     "execution_count": 181,
     "metadata": {},
     "output_type": "execute_result"
    }
   ],
   "source": [
    "ddf4= ninos_con_Anemia.groupby('Sexo')['Cantidad_Niños'].count()\n",
    "ddf4"
   ]
  },
  {
   "cell_type": "code",
   "execution_count": 201,
   "metadata": {},
   "outputs": [
    {
     "data": {
      "image/png": "[encoded data removed]",
      "text/plain": [
       "<Figure size 432x576 with 1 Axes>"
      ]
     },
     "metadata": {
      "needs_background": "light"
     },
     "output_type": "display_data"
    }
   ],
   "source": [
    "ddf4.plot(kind = \"bar\",figsize=(6,8), title=\"Cantidad de Niños con Anemia VS Sexo\")\n",
    "plt.show()"
   ]
  },
  {
   "cell_type": "code",
   "execution_count": 239,
   "metadata": {},
   "outputs": [
    {
     "data": {
      "text/html": [
       "<div>\n",
       "<style scoped>\n",
       "    .dataframe tbody tr th:only-of-type {\n",
       "        vertical-align: middle;\n",
       "    }\n",
       "\n",
       "    .dataframe tbody tr th {\n",
       "        vertical-align: top;\n",
       "    }\n",
       "\n",
       "    .dataframe thead th {\n",
       "        text-align: right;\n",
       "    }\n",
       "</style>\n",
       "<table border=\"1\" class=\"dataframe\">\n",
       "  <thead>\n",
       "    <tr style=\"text-align: right;\">\n",
       "      <th></th>\n",
       "      <th>Dx_Anemia</th>\n",
       "      <th>Cantidad_Niños</th>\n",
       "    </tr>\n",
       "  </thead>\n",
       "  <tbody>\n",
       "    <tr>\n",
       "      <th>0</th>\n",
       "      <td>Anemia Leve</td>\n",
       "      <td>25143</td>\n",
       "    </tr>\n",
       "    <tr>\n",
       "      <th>1</th>\n",
       "      <td>Anemia Moderada</td>\n",
       "      <td>9351</td>\n",
       "    </tr>\n",
       "    <tr>\n",
       "      <th>2</th>\n",
       "      <td>Anemia Severa</td>\n",
       "      <td>90</td>\n",
       "    </tr>\n",
       "    <tr>\n",
       "      <th>3</th>\n",
       "      <td>Normal</td>\n",
       "      <td>103785</td>\n",
       "    </tr>\n",
       "  </tbody>\n",
       "</table>\n",
       "</div>"
      ],
      "text/plain": [
       "         Dx_Anemia  Cantidad_Niños\n",
       "0      Anemia Leve           25143\n",
       "1  Anemia Moderada            9351\n",
       "2    Anemia Severa              90\n",
       "3           Normal          103785"
      ]
     },
     "execution_count": 239,
     "metadata": {},
     "output_type": "execute_result"
    }
   ],
   "source": [
    "ddf1= dfnt.groupby('Dx_Anemia')['Cantidad_Niños'].count()\n",
    "fd= pd.DataFrame(ddf1)\n",
    "fd= fd.reset_index()\n",
    "fd"
   ]
  },
  {
   "cell_type": "code",
   "execution_count": 253,
   "metadata": {},
   "outputs": [
    {
     "data": {
      "text/plain": [
       "['ggplot', 'pearl', 'solar', 'space', 'white', 'polar', 'henanigans']"
      ]
     },
     "execution_count": 253,
     "metadata": {},
     "output_type": "execute_result"
    }
   ],
   "source": [
    "from IPython.display import display,HTML\n",
    "\n",
    "cf.set_config_file(sharing= 'public', theme= 'ggplot', offline= False)\n",
    "cf.getThemes()"
   ]
  },
  {
   "cell_type": "code",
   "execution_count": 254,
   "metadata": {},
   "outputs": [
    {
     "data": {
      "application/vnd.plotly.v1+json": {
       "config": {
        "linkText": "Export to plot.ly",
        "plotlyServerURL": "https://plot.ly",
        "showLink": true
       },
       "data": [
        {
         "labels": [
          "Anemia Leve",
          "Anemia Moderada",
          "Anemia Severa",
          "Normal"
         ],
         "marker": {
          "colors": [
           "rgba(226, 74, 51, 1.0)",
           "rgba(62, 111, 176, 1.0)",
           "rgba(132, 118, 202, 1.0)",
           "rgba(101, 101, 101, 1.0)"
          ]
         },
         "name": "",
         "type": "pie",
         "values": [
          25143,
          9351,
          90,
          103785
         ]
        }
       ],
       "layout": {
        "legend": {
         "bgcolor": "#FFFFFF",
         "font": {
          "color": "#666666"
         }
        },
        "paper_bgcolor": "#FFFFFF",
        "plot_bgcolor": "#E5E5E5",
        "title": "NIÑOS CON/SIN ANEMIA (%)",
        "titlefont": {
         "color": "#151516"
        }
       }
      },
      "text/html": [
       "<div>                            <div id=\"ede87c2f-7a82-4f8a-8d70-7eb8c7677aef\" class=\"plotly-graph-div\" style=\"height:525px; width:100%;\"></div>            <script type=\"text/javascript\">                require([\"plotly\"], function(Plotly) {                    window.PLOTLYENV=window.PLOTLYENV || {};\n",
       "                    window.PLOTLYENV.BASE_URL='https://plot.ly';                                    if (document.getElementById(\"ede87c2f-7a82-4f8a-8d70-7eb8c7677aef\")) {                    Plotly.newPlot(                        \"ede87c2f-7a82-4f8a-8d70-7eb8c7677aef\",                        [{\"labels\":[\"Anemia Leve\",\"Anemia Moderada\",\"Anemia Severa\",\"Normal\"],\"marker\":{\"colors\":[\"rgba(226, 74, 51, 1.0)\",\"rgba(62, 111, 176, 1.0)\",\"rgba(132, 118, 202, 1.0)\",\"rgba(101, 101, 101, 1.0)\"]},\"name\":\"\",\"values\":[25143,9351,90,103785],\"type\":\"pie\"}],                        {\"legend\":{\"bgcolor\":\"#FFFFFF\",\"font\":{\"color\":\"#666666\"}},\"paper_bgcolor\":\"#FFFFFF\",\"plot_bgcolor\":\"#E5E5E5\",\"titlefont\":{\"color\":\"#151516\"},\"title\":\"NI\\u00d1OS CON/SIN ANEMIA (%)\"},                        {\"showLink\": true, \"linkText\": \"Export to plot.ly\", \"plotlyServerURL\": \"https://plot.ly\", \"responsive\": true}                    ).then(function(){\n",
       "                            \n",
       "var gd = document.getElementById('ede87c2f-7a82-4f8a-8d70-7eb8c7677aef');\n",
       "var x = new MutationObserver(function (mutations, observer) {{\n",
       "        var display = window.getComputedStyle(gd).display;\n",
       "        if (!display || display === 'none') {{\n",
       "            console.log([gd, 'removed!']);\n",
       "            Plotly.purge(gd);\n",
       "            observer.disconnect();\n",
       "        }}\n",
       "}});\n",
       "\n",
       "// Listen for the removal of the full notebook cells\n",
       "var notebookContainer = gd.closest('#notebook-container');\n",
       "if (notebookContainer) {{\n",
       "    x.observe(notebookContainer, {childList: true});\n",
       "}}\n",
       "\n",
       "// Listen for the clearing of the current output cell\n",
       "var outputEl = gd.closest('.output');\n",
       "if (outputEl) {{\n",
       "    x.observe(outputEl, {childList: true});\n",
       "}}\n",
       "\n",
       "                        })                };                });            </script>        </div>"
      ]
     },
     "metadata": {},
     "output_type": "display_data"
    }
   ],
   "source": [
    "# plotting\n",
    "fd.iplot(kind='pie', labels='Dx_Anemia',\n",
    "                         values='Cantidad_Niños',\n",
    "                         title='NIÑOS CON/SIN ANEMIA (%)')"
   ]
  },
  {
   "cell_type": "markdown",
   "metadata": {},
   "source": [
    "# Grafica Interactivo de Niños con Anemia por Provincia"
   ]
  },
  {
   "cell_type": "code",
   "execution_count": 230,
   "metadata": {},
   "outputs": [],
   "source": [
    "ddf5= ninos_con_Anemia.groupby('Prov_EESS')['Cantidad_Niños'].count()\n",
    "ddf5= ddf5.reset_index()"
   ]
  },
  {
   "cell_type": "code",
   "execution_count": 255,
   "metadata": {},
   "outputs": [
    {
     "data": {
      "application/vnd.plotly.v1+json": {
       "config": {
        "linkText": "Export to plot.ly",
        "plotlyServerURL": "https://plot.ly",
        "showLink": true
       },
       "data": [
        {
         "labels": [
          "BARRANCA",
          "CAJATAMBO",
          "CANTA",
          "CAÑETE",
          "HUARAL",
          "HUAROCHIRI",
          "HUAURA",
          "LIMA",
          "OYON",
          "YAUYOS"
         ],
         "marker": {
          "colors": [
           "rgba(226, 74, 51, 1.0)",
           "rgba(62, 111, 176, 1.0)",
           "rgba(132, 118, 202, 1.0)",
           "rgba(101, 101, 101, 1.0)",
           "rgba(251, 193, 94, 1.0)",
           "rgba(142, 186, 66, 1.0)",
           "rgba(255, 181, 184, 1.0)",
           "rgba(255, 181, 184, 0.8999999999999999)",
           "rgba(226, 74, 51, 0.8999999999999999)",
           "rgba(62, 111, 176, 0.8999999999999999)"
          ]
         },
         "name": "",
         "type": "pie",
         "values": [
          280,
          62,
          86,
          1355,
          524,
          658,
          653,
          30572,
          85,
          309
         ]
        }
       ],
       "layout": {
        "legend": {
         "bgcolor": "#FFFFFF",
         "font": {
          "color": "#666666"
         }
        },
        "paper_bgcolor": "#FFFFFF",
        "plot_bgcolor": "#E5E5E5",
        "title": "CANTIDAD DE NIÑOS CON ANEMIA POR PROVINCIA DE LIMA (%)",
        "titlefont": {
         "color": "#151516"
        }
       }
      },
      "text/html": [
       "<div>                            <div id=\"e5843fa6-ee1a-4d0b-b3ed-a98abd394e60\" class=\"plotly-graph-div\" style=\"height:525px; width:100%;\"></div>            <script type=\"text/javascript\">                require([\"plotly\"], function(Plotly) {                    window.PLOTLYENV=window.PLOTLYENV || {};\n",
       "                    window.PLOTLYENV.BASE_URL='https://plot.ly';                                    if (document.getElementById(\"e5843fa6-ee1a-4d0b-b3ed-a98abd394e60\")) {                    Plotly.newPlot(                        \"e5843fa6-ee1a-4d0b-b3ed-a98abd394e60\",                        [{\"labels\":[\"BARRANCA\",\"CAJATAMBO\",\"CANTA\",\"CA\\u00d1ETE\",\"HUARAL\",\"HUAROCHIRI\",\"HUAURA\",\"LIMA\",\"OYON\",\"YAUYOS\"],\"marker\":{\"colors\":[\"rgba(226, 74, 51, 1.0)\",\"rgba(62, 111, 176, 1.0)\",\"rgba(132, 118, 202, 1.0)\",\"rgba(101, 101, 101, 1.0)\",\"rgba(251, 193, 94, 1.0)\",\"rgba(142, 186, 66, 1.0)\",\"rgba(255, 181, 184, 1.0)\",\"rgba(255, 181, 184, 0.8999999999999999)\",\"rgba(226, 74, 51, 0.8999999999999999)\",\"rgba(62, 111, 176, 0.8999999999999999)\"]},\"name\":\"\",\"values\":[280,62,86,1355,524,658,653,30572,85,309],\"type\":\"pie\"}],                        {\"legend\":{\"bgcolor\":\"#FFFFFF\",\"font\":{\"color\":\"#666666\"}},\"paper_bgcolor\":\"#FFFFFF\",\"plot_bgcolor\":\"#E5E5E5\",\"titlefont\":{\"color\":\"#151516\"},\"title\":\"CANTIDAD DE NI\\u00d1OS CON ANEMIA POR PROVINCIA DE LIMA (%)\"},                        {\"showLink\": true, \"linkText\": \"Export to plot.ly\", \"plotlyServerURL\": \"https://plot.ly\", \"responsive\": true}                    ).then(function(){\n",
       "                            \n",
       "var gd = document.getElementById('e5843fa6-ee1a-4d0b-b3ed-a98abd394e60');\n",
       "var x = new MutationObserver(function (mutations, observer) {{\n",
       "        var display = window.getComputedStyle(gd).display;\n",
       "        if (!display || display === 'none') {{\n",
       "            console.log([gd, 'removed!']);\n",
       "            Plotly.purge(gd);\n",
       "            observer.disconnect();\n",
       "        }}\n",
       "}});\n",
       "\n",
       "// Listen for the removal of the full notebook cells\n",
       "var notebookContainer = gd.closest('#notebook-container');\n",
       "if (notebookContainer) {{\n",
       "    x.observe(notebookContainer, {childList: true});\n",
       "}}\n",
       "\n",
       "// Listen for the clearing of the current output cell\n",
       "var outputEl = gd.closest('.output');\n",
       "if (outputEl) {{\n",
       "    x.observe(outputEl, {childList: true});\n",
       "}}\n",
       "\n",
       "                        })                };                });            </script>        </div>"
      ]
     },
     "metadata": {},
     "output_type": "display_data"
    }
   ],
   "source": [
    "# plotting\n",
    "ddf5.iplot(kind='pie', labels='Prov_EESS',\n",
    "                         values='Cantidad_Niños',\n",
    "                         title='CANTIDAD DE NIÑOS CON ANEMIA POR PROVINCIA DE LIMA (%)')"
   ]
  },
  {
   "cell_type": "markdown",
   "metadata": {},
   "source": [
    " ## Convertiendo la Edad en Rango de Edad"
   ]
  },
  {
   "cell_type": "code",
   "execution_count": 110,
   "metadata": {},
   "outputs": [
    {
     "data": {
      "text/plain": [
       "count    138369.000000\n",
       "mean         22.629693\n",
       "std          14.078767\n",
       "min           6.000000\n",
       "25%          12.000000\n",
       "50%          19.000000\n",
       "75%          30.000000\n",
       "max          60.000000\n",
       "Name: EdadMeses, dtype: float64"
      ]
     },
     "execution_count": 110,
     "metadata": {},
     "output_type": "execute_result"
    }
   ],
   "source": [
    "dfnt['EdadMeses'].describe()"
   ]
  },
  {
   "cell_type": "code",
   "execution_count": 316,
   "metadata": {},
   "outputs": [
    {
     "data": {
      "text/plain": [
       "array([ 6.        , 13.71428571, 21.42857143, 29.14285714, 36.85714286,\n",
       "       44.57142857, 52.28571429, 60.        ])"
      ]
     },
     "execution_count": 316,
     "metadata": {},
     "output_type": "execute_result"
    }
   ],
   "source": [
    "counts, bins = np.histogram(dfnt['EdadMeses'].dropna().values, bins=7)\n",
    "bins"
   ]
  },
  {
   "cell_type": "code",
   "execution_count": 113,
   "metadata": {},
   "outputs": [],
   "source": [
    "rangos_edad = [6, 11, 16, 21, 26, 31, 36, 41, 46, 51, 56, 61]\n",
    "edad_bins = pd.cut(dfnt['EdadMeses'], bins=rangos_edad)\n",
    "\n",
    "edad_bins_count = edad_bins.value_counts()"
   ]
  },
  {
   "cell_type": "code",
   "execution_count": 218,
   "metadata": {},
   "outputs": [
    {
     "data": {
      "text/html": [
       "<div>\n",
       "<style scoped>\n",
       "    .dataframe tbody tr th:only-of-type {\n",
       "        vertical-align: middle;\n",
       "    }\n",
       "\n",
       "    .dataframe tbody tr th {\n",
       "        vertical-align: top;\n",
       "    }\n",
       "\n",
       "    .dataframe thead th {\n",
       "        text-align: right;\n",
       "    }\n",
       "</style>\n",
       "<table border=\"1\" class=\"dataframe\">\n",
       "  <thead>\n",
       "    <tr style=\"text-align: right;\">\n",
       "      <th></th>\n",
       "      <th>EdadMeses</th>\n",
       "    </tr>\n",
       "  </thead>\n",
       "  <tbody>\n",
       "    <tr>\n",
       "      <th>(6, 11]</th>\n",
       "      <td>24974</td>\n",
       "    </tr>\n",
       "    <tr>\n",
       "      <th>(11, 16]</th>\n",
       "      <td>24531</td>\n",
       "    </tr>\n",
       "    <tr>\n",
       "      <th>(16, 21]</th>\n",
       "      <td>20208</td>\n",
       "    </tr>\n",
       "    <tr>\n",
       "      <th>(21, 26]</th>\n",
       "      <td>16273</td>\n",
       "    </tr>\n",
       "    <tr>\n",
       "      <th>(26, 31]</th>\n",
       "      <td>10860</td>\n",
       "    </tr>\n",
       "    <tr>\n",
       "      <th>(31, 36]</th>\n",
       "      <td>8263</td>\n",
       "    </tr>\n",
       "    <tr>\n",
       "      <th>(46, 51]</th>\n",
       "      <td>6453</td>\n",
       "    </tr>\n",
       "    <tr>\n",
       "      <th>(36, 41]</th>\n",
       "      <td>5940</td>\n",
       "    </tr>\n",
       "    <tr>\n",
       "      <th>(41, 46]</th>\n",
       "      <td>4744</td>\n",
       "    </tr>\n",
       "    <tr>\n",
       "      <th>(51, 56]</th>\n",
       "      <td>4709</td>\n",
       "    </tr>\n",
       "    <tr>\n",
       "      <th>(56, 61]</th>\n",
       "      <td>2570</td>\n",
       "    </tr>\n",
       "  </tbody>\n",
       "</table>\n",
       "</div>"
      ],
      "text/plain": [
       "          EdadMeses\n",
       "(6, 11]       24974\n",
       "(11, 16]      24531\n",
       "(16, 21]      20208\n",
       "(21, 26]      16273\n",
       "(26, 31]      10860\n",
       "(31, 36]       8263\n",
       "(46, 51]       6453\n",
       "(36, 41]       5940\n",
       "(41, 46]       4744\n",
       "(51, 56]       4709\n",
       "(56, 61]       2570"
      ]
     },
     "execution_count": 218,
     "metadata": {},
     "output_type": "execute_result"
    }
   ],
   "source": [
    "RangoEdad= pd.DataFrame(edad_bins_count)\n",
    "RangoEdad"
   ]
  },
  {
   "cell_type": "code",
   "execution_count": 131,
   "metadata": {},
   "outputs": [
    {
     "data": {
      "text/plain": [
       "<AxesSubplot:title={'center':'Cantidad de Niños por Rango de Edad'}>"
      ]
     },
     "execution_count": 131,
     "metadata": {},
     "output_type": "execute_result"
    },
    {
     "data": {
      "image/png": "[encoded data removed]",
      "text/plain": [
       "<Figure size 720x504 with 1 Axes>"
      ]
     },
     "metadata": {
      "needs_background": "light"
     },
     "output_type": "display_data"
    }
   ],
   "source": [
    "edad_bins_count.sort_index().plot(kind='bar', figsize=(10,7),title=\"Cantidad de Niños por Rango de Edad\", color='green')"
   ]
  },
  {
   "cell_type": "code",
   "execution_count": 265,
   "metadata": {},
   "outputs": [],
   "source": [
    "dfnt= dfnt[['EdadMeses', 'Dx_Anemia', 'Talla']]\n",
    "ddf= ninos_con_Anemia.groupby('Sexo')['Cantidad_Niños'].count()\n",
    "ddf4 = pd.DataFrame(ddf).reset_index()"
   ]
  },
  {
   "cell_type": "markdown",
   "metadata": {},
   "source": [
    "## 2 Cargando los Datos de las Madres Gestantes del Centro de Salud\n",
    "Estos datos no estan procesados aun."
   ]
  },
  {
   "cell_type": "code",
   "execution_count": 220,
   "metadata": {},
   "outputs": [],
   "source": [
    "dfg1 = pd.read_csv('../data/Gestantes Lima Centro.csv')\n",
    "dfg2 = pd.read_csv('../data/Gestantes Lima Sur.csv')\n",
    "dfg3 = pd.read_csv('../data/Gestantes Lima Este.csv')\n",
    "dfg4 = pd.read_csv('../data/Gestantes Lima.csv')"
   ]
  },
  {
   "cell_type": "code",
   "execution_count": 221,
   "metadata": {},
   "outputs": [
    {
     "data": {
      "text/plain": [
       "Index(['DIRESA', 'RED', 'MICRORED', 'EESS', 'RENIPRESS', 'Fecha', 'Edad',\n",
       "       'Edad_Gestacional', 'Peso', 'Talla', 'PPG', 'Tipo_Embarazo', 'UBIGEO',\n",
       "       'Provincia', 'Distrito', 'Altitud_Dist', 'Localidad', 'Altitud_Loc',\n",
       "       'Hematocrito', 'Hemoglobina', 'FechaHemoglobina', 'Hbc', 'Dx_Anemia'],\n",
       "      dtype='object')"
      ]
     },
     "execution_count": 221,
     "metadata": {},
     "output_type": "execute_result"
    }
   ],
   "source": [
    "dfg_todos = pd.concat([dfg1, dfg2,dfg3,dfg4])\n",
    "dfg_todos.columns"
   ]
  },
  {
   "cell_type": "code",
   "execution_count": 292,
   "metadata": {},
   "outputs": [
    {
     "data": {
      "text/plain": [
       "(17179, 12)"
      ]
     },
     "execution_count": 292,
     "metadata": {},
     "output_type": "execute_result"
    }
   ],
   "source": [
    "dfg_todos= dfg_todos.assign(Cantidad_Gestantes=1)\n",
    "dfg_todos=dfg_todos[['DIRESA','Edad','Edad_Gestacional','Peso', 'Talla','UBIGEO','Provincia', 'Distrito', 'Altitud_Dist','Hemoglobina','Dx_Anemia','Cantidad_Gestantes']]\n",
    "dfg_todos.shape"
   ]
  },
  {
   "cell_type": "markdown",
   "metadata": {},
   "source": [
    "## CLASIFICACION DE LAS MADRES GESTANTES CON / SIN ANEMIA"
   ]
  },
  {
   "cell_type": "code",
   "execution_count": 269,
   "metadata": {},
   "outputs": [],
   "source": [
    "dfgtg = dfg_todos[dfg_todos['Dx_Anemia']== 'Normal']\n",
    "dfgtg1 = dfg_todos[dfg_todos['Dx_Anemia']== 'Anemia Leve']\n",
    "dfgtg2 = dfg_todos[dfg_todos['Dx_Anemia']== 'Anemia Moderada']\n",
    "dfgtg3 = dfg_todos[dfg_todos['Dx_Anemia']== 'Anemia Severa']\n",
    "gestantes_con_Anemia = pd.concat([dfgtg1,dfgtg2,dfgtg3])\n",
    "gestantes_sin_Anemia = dfgtg.copy()"
   ]
  },
  {
   "cell_type": "code",
   "execution_count": 315,
   "metadata": {},
   "outputs": [
    {
     "data": {
      "text/plain": [
       "Cantidad_Gestantes    17179\n",
       "dtype: int64"
      ]
     },
     "execution_count": 315,
     "metadata": {},
     "output_type": "execute_result"
    }
   ],
   "source": [
    "tdinamica = dfg_todos.groupby('Dx_Anemia')['Cantidad_Gestantes'].count()\n",
    "pd.DataFrame(tdinamica).sum()"
   ]
  },
  {
   "cell_type": "code",
   "execution_count": 312,
   "metadata": {},
   "outputs": [
    {
     "data": {
      "text/plain": [
       "<AxesSubplot:title={'center':'Cantidad de Madres Gestantes Con / Sin Anemia'}, xlabel='Dx_Anemia'>"
      ]
     },
     "execution_count": 312,
     "metadata": {},
     "output_type": "execute_result"
    },
    {
     "data": {
      "image/png": "[encoded data removed]",
      "text/plain": [
       "<Figure size 720x504 with 1 Axes>"
      ]
     },
     "metadata": {
      "needs_background": "light"
     },
     "output_type": "display_data"
    }
   ],
   "source": [
    "tdinamica.sort_index().plot(kind='bar', figsize=(10,7),title=\"Cantidad de Madres Gestantes Con / Sin Anemia\", color='green')"
   ]
  },
  {
   "cell_type": "markdown",
   "metadata": {},
   "source": [
    "## Analisis Exploratorio de Datos (EDA)\n",
    "\n",
    "es el proceso de limpieza y descubrimiento de *insights* a través de la revisión detallada de un conjunto de datos.\n",
    "\n",
    "### Pasos de preparación\n",
    "\n",
    "1. Seleccionar las variables de explorar\n",
    "1. Verificar la integridad de las variables (si están limpias o qué debemos hacer para limpiarlas o si no se pueden usar)\n",
    "1. Plantear las preguntas de evaluacion\n",
    "1. Plantear hipotesis a partir de nuestras variables*\n",
    "\n",
    "### Pasos de EDA \n",
    "\n",
    "1. Limpiar los datos (70% del tiempo)\n",
    "1. Responder las preguntas de exploración a partir de los datos (indicadores y gráficas)\n",
    "1. Responder las hipótesis (Tests estadísticos | estadística descriptiva)*\n",
    "1. Generar un reporte Tecnico para el público en general \n",
    "\n",
    "> *Pasos opcionales dependiendo de la experiencia en el area de analisis"
   ]
  },
  {
   "cell_type": "code",
   "execution_count": null,
   "metadata": {},
   "outputs": [],
   "source": []
  },
  {
   "cell_type": "markdown",
   "metadata": {},
   "source": [
    "### Preguntas de exploración\n",
    "\n",
    "1. ¿Cuál es la probabilidad de que una niña tenga anemia en el Departamento de Lima?\n",
    "1. ¿Cuál es el distrito en donde los ninos padecen mas de anemia?\n",
    "1. ¿Cuál es el rango de edad en que los ninos(a) padecen de anemia?\n"
   ]
  },
  {
   "cell_type": "code",
   "execution_count": 348,
   "metadata": {},
   "outputs": [
    {
     "data": {
      "text/html": [
       "<div>\n",
       "<style scoped>\n",
       "    .dataframe tbody tr th:only-of-type {\n",
       "        vertical-align: middle;\n",
       "    }\n",
       "\n",
       "    .dataframe tbody tr th {\n",
       "        vertical-align: top;\n",
       "    }\n",
       "\n",
       "    .dataframe thead th {\n",
       "        text-align: right;\n",
       "    }\n",
       "</style>\n",
       "<table border=\"1\" class=\"dataframe\">\n",
       "  <thead>\n",
       "    <tr style=\"text-align: right;\">\n",
       "      <th></th>\n",
       "      <th>0</th>\n",
       "    </tr>\n",
       "  </thead>\n",
       "  <tbody>\n",
       "    <tr>\n",
       "      <th>Cantidad_Niños</th>\n",
       "      <td>138369</td>\n",
       "    </tr>\n",
       "  </tbody>\n",
       "</table>\n",
       "</div>"
      ],
      "text/plain": [
       "                     0\n",
       "Cantidad_Niños  138369"
      ]
     },
     "execution_count": 348,
     "metadata": {},
     "output_type": "execute_result"
    }
   ],
   "source": [
    "# Desarrollo de Pregunta 1\n",
    "niños_totales = dfnt[['Cantidad_Niños']].count()\n",
    "pd.DataFrame(niños_totales)"
   ]
  },
  {
   "cell_type": "code",
   "execution_count": 344,
   "metadata": {},
   "outputs": [
    {
     "data": {
      "text/html": [
       "<div>\n",
       "<style scoped>\n",
       "    .dataframe tbody tr th:only-of-type {\n",
       "        vertical-align: middle;\n",
       "    }\n",
       "\n",
       "    .dataframe tbody tr th {\n",
       "        vertical-align: top;\n",
       "    }\n",
       "\n",
       "    .dataframe thead th {\n",
       "        text-align: right;\n",
       "    }\n",
       "</style>\n",
       "<table border=\"1\" class=\"dataframe\">\n",
       "  <thead>\n",
       "    <tr style=\"text-align: right;\">\n",
       "      <th></th>\n",
       "      <th>Cantidad_Niños</th>\n",
       "    </tr>\n",
       "    <tr>\n",
       "      <th>Sexo</th>\n",
       "      <th></th>\n",
       "    </tr>\n",
       "  </thead>\n",
       "  <tbody>\n",
       "    <tr>\n",
       "      <th>F</th>\n",
       "      <td>15935</td>\n",
       "    </tr>\n",
       "    <tr>\n",
       "      <th>M</th>\n",
       "      <td>18649</td>\n",
       "    </tr>\n",
       "  </tbody>\n",
       "</table>\n",
       "</div>"
      ],
      "text/plain": [
       "      Cantidad_Niños\n",
       "Sexo                \n",
       "F              15935\n",
       "M              18649"
      ]
     },
     "execution_count": 344,
     "metadata": {},
     "output_type": "execute_result"
    }
   ],
   "source": [
    "preg_1 = ninos_con_Anemia.groupby('Sexo')['Cantidad_Niños'].count()\n",
    "pd.DataFrame(preg_1)"
   ]
  },
  {
   "cell_type": "code",
   "execution_count": 357,
   "metadata": {},
   "outputs": [
    {
     "name": "stdout",
     "output_type": "stream",
     "text": [
      "0.11516307843519863\n"
     ]
    }
   ],
   "source": [
    "# Hallando la Probabilidad de que una niña tenga Anemia en el departamento de Lima\n",
    "numero_niñas = 15935\n",
    "niños_totales = 138369 \n",
    "print(numero_niñas/niños_totales)  # "
   ]
  },
  {
   "cell_type": "code",
   "execution_count": 356,
   "metadata": {},
   "outputs": [
    {
     "name": "stdout",
     "output_type": "stream",
     "text": [
      "11.516307843519863 %\n"
     ]
    }
   ],
   "source": [
    "print(numero_niñas/niños_totales*100, \"%\") ## La probabilidad expresada en porcentaje"
   ]
  }
 ],
 "metadata": {
  "interpreter": {
   "hash": "008156cccc7be5d433b4af135121d1a5e93afac24ba5e91756571ec0409d4392"
  },
  "kernelspec": {
   "display_name": "Python 3.10.3 ('.env': venv)",
   "language": "python",
   "name": "python3"
  },
  "language_info": {
   "codemirror_mode": {
    "name": "ipython",
    "version": 3
   },
   "file_extension": ".py",
   "mimetype": "text/x-python",
   "name": "python",
   "nbconvert_exporter": "python",
   "pygments_lexer": "ipython3",
   "version": "3.10.3"
  },
  "orig_nbformat": 4
 },
 "nbformat": 4,
 "nbformat_minor": 2
}
